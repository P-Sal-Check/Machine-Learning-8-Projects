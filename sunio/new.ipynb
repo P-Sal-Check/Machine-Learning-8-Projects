{
 "cells": [
  {
   "attachments": {},
   "cell_type": "markdown",
   "metadata": {},
   "source": [
    "# 올 ㅋㅋ 마크다운도 되는데 ㅋㅋ"
   ]
  },
  {
   "cell_type": "code",
   "execution_count": 1,
   "metadata": {},
   "outputs": [
    {
     "name": "stdout",
     "output_type": "stream",
     "text": [
      "1+1\n"
     ]
    }
   ],
   "source": [
    "한글_변수_됬었나 = \"1+1\";\n",
    "print(한글_변수_됬었나);"
   ]
  },
  {
   "attachments": {},
   "cell_type": "markdown",
   "metadata": {},
   "source": [
    "### 외부 데이터로 테스트를 해보자 https://www.thespreadsheetguru.com/vlookup"
   ]
  },
  {
   "cell_type": "code",
   "execution_count": 2,
   "metadata": {},
   "outputs": [],
   "source": [
    "import csv"
   ]
  },
  {
   "cell_type": "code",
   "execution_count": 18,
   "metadata": {},
   "outputs": [
    {
     "name": "stdout",
     "output_type": "stream",
     "text": [
      "{'Employee ID': ['Last Name', 'First Name', '', '', 'Employee ID', 'Pay', 'First Name', 'Last Name'], '110608': ['Doe', 'John', '', '', '990678', '$84,289 ', '', ''], '253072': ['Cline', 'Andy', '', '', '830385', '$137,670 ', '', ''], '352711': ['Smith', 'John', '', '', '795574', '$190,024 ', '', ''], '391006': ['Pan', 'Peter', '', '', '580622', '$122,604 ', '', ''], '392128': ['Favre', 'Bret', '', '', '549457', '$111,709 ', '', ''], '549457': ['Elway', 'John', '', '', '392128', '$85,931 ', '', ''], '580622': ['Manning', 'Eli', '', '', '391006', '$168,114 ', '', ''], '602693': ['Vick', 'Micheal', '', '', '352711', '$89,627 ', '', ''], '611810': ['Woods', 'Tiger', '', '', '253072', '$149,946 ', '', ''], '612235': ['Jordan', 'Micheal', '', '', '612235', '$145,893 ', '', ''], '795574': ['Stark', 'Tony', '', '', '611810', '$64,757 ', '', ''], '830385': ['Williams', 'Prince', '', '', '602693', '$71,478 ', '', ''], '990678': ['Pitt', 'Brad', '', '', '110608', '$131,505 ', '', '']}\n"
     ]
    }
   ],
   "source": [
    "with open('Vlookup_Practice_Examples.csv', 'r') as infile:\n",
    "    obj = csv.reader(infile)\n",
    "    header_a = next(obj)\n",
    "    next(obj) # empty row\n",
    "    dict_a = {row[0]: row[1:] for row in obj}\n",
    "    print(dict_a)\n"
   ]
  }
 ],
 "metadata": {
  "kernelspec": {
   "display_name": "Python 3",
   "language": "python",
   "name": "python3"
  },
  "language_info": {
   "codemirror_mode": {
    "name": "ipython",
    "version": 3
   },
   "file_extension": ".py",
   "mimetype": "text/x-python",
   "name": "python",
   "nbconvert_exporter": "python",
   "pygments_lexer": "ipython3",
   "version": "3.10.10"
  },
  "orig_nbformat": 4
 },
 "nbformat": 4,
 "nbformat_minor": 2
}
